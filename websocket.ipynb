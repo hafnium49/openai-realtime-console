{
 "cells": [
  {
   "cell_type": "code",
   "execution_count": 6,
   "id": "c8d95dc9-f64b-45a6-a349-1cb1512eea2b",
   "metadata": {},
   "outputs": [
    {
     "name": "stdout",
     "output_type": "stream",
     "text": [
      "Requirement already satisfied: websocket-client in /home/hafnium/miniconda3/envs/jupyter/lib/python3.11/site-packages (1.8.0)\n"
     ]
    }
   ],
   "source": [
    "# !python -m pip install websockets\n",
    "!python -m pip install websocket-client\n"
   ]
  },
  {
   "cell_type": "code",
   "execution_count": 15,
   "id": "58894a71-ee8f-4886-9230-40a2da622ff3",
   "metadata": {},
   "outputs": [
    {
     "name": "stdout",
     "output_type": "stream",
     "text": [
      "Encountered error: [Errno 111] Connection refused\n",
      "WebSocket connection closed\n"
     ]
    }
   ],
   "source": [
    "import websocket\n",
    "import json\n",
    "import threading\n",
    "import time\n",
    "\n",
    "def on_message(ws, message):\n",
    "    print(f\"Received message from server: {message}\")\n",
    "\n",
    "def on_error(ws, error):\n",
    "    print(f\"Encountered error: {error}\")\n",
    "\n",
    "def on_close(ws, close_status_code, close_msg):\n",
    "    print(\"WebSocket connection closed\")\n",
    "\n",
    "def on_open(ws):\n",
    "    print(\"WebSocket connection opened\")\n",
    "    # Send message after connection is established\n",
    "    tool_calls = [\n",
    "        {\n",
    "            \"function_name\": \"load_molecule\",\n",
    "            \"arguments\": {\n",
    "                \"molecule\": \"H2O\"\n",
    "            }\n",
    "        }\n",
    "    ]\n",
    "    tool_calls_json = json.dumps(tool_calls)\n",
    "    ws.send(tool_calls_json)\n",
    "\n",
    "# Create the WebSocket app\n",
    "ws_url = \"ws://localhost:8765\"\n",
    "ws_app = websocket.WebSocketApp(\n",
    "    ws_url,\n",
    "    on_open=on_open,\n",
    "    on_message=on_message,\n",
    "    on_error=on_error,\n",
    "    on_close=on_close\n",
    ")\n",
    "\n",
    "# Run the WebSocket app in a separate thread\n",
    "def run_ws():\n",
    "    ws_app.run_forever()\n",
    "\n",
    "ws_thread = threading.Thread(target=run_ws)\n",
    "ws_thread.daemon = True\n",
    "ws_thread.start()\n",
    "\n",
    "# Wait for the connection to establish\n",
    "time.sleep(2)  # Adjust if necessary\n",
    "\n",
    "# Optionally, send messages here if not sent in on_open\n"
   ]
  },
  {
   "cell_type": "code",
   "execution_count": 10,
   "id": "dfb34829-944e-4750-972a-9f563c93093d",
   "metadata": {},
   "outputs": [
    {
     "name": "stdout",
     "output_type": "stream",
     "text": [
      "Encountered error: [Errno 111] Connection refused\n",
      "WebSocket connection closed\n"
     ]
    },
    {
     "name": "stderr",
     "output_type": "stream",
     "text": [
      "<frozen genericpath>:77: RuntimeWarning: coroutine 'test_websocket' was never awaited\n",
      "RuntimeWarning: Enable tracemalloc to get the object allocation traceback\n"
     ]
    },
    {
     "ename": "WebSocketConnectionClosedException",
     "evalue": "Connection is already closed.",
     "output_type": "error",
     "traceback": [
      "\u001b[0;31m---------------------------------------------------------------------------\u001b[0m",
      "\u001b[0;31mWebSocketConnectionClosedException\u001b[0m        Traceback (most recent call last)",
      "Cell \u001b[0;32mIn[10], line 57\u001b[0m\n\u001b[1;32m     40\u001b[0m tool_calls \u001b[38;5;241m=\u001b[39m [\n\u001b[1;32m     41\u001b[0m     {\n\u001b[1;32m     42\u001b[0m         \u001b[38;5;124m\"\u001b[39m\u001b[38;5;124mfunction_name\u001b[39m\u001b[38;5;124m\"\u001b[39m: \u001b[38;5;124m\"\u001b[39m\u001b[38;5;124mload_molecule\u001b[39m\u001b[38;5;124m\"\u001b[39m,\n\u001b[0;32m   (...)\u001b[0m\n\u001b[1;32m     53\u001b[0m     }\n\u001b[1;32m     54\u001b[0m ]\n\u001b[1;32m     56\u001b[0m tool_calls_json \u001b[38;5;241m=\u001b[39m json\u001b[38;5;241m.\u001b[39mdumps(tool_calls)\n\u001b[0;32m---> 57\u001b[0m ws_app\u001b[38;5;241m.\u001b[39msend(tool_calls_json)\n",
      "File \u001b[0;32m~/miniconda3/envs/jupyter/lib/python3.11/site-packages/websocket/_app.py:291\u001b[0m, in \u001b[0;36mWebSocketApp.send\u001b[0;34m(self, data, opcode)\u001b[0m\n\u001b[1;32m    278\u001b[0m \u001b[38;5;250m\u001b[39m\u001b[38;5;124;03m\"\"\"\u001b[39;00m\n\u001b[1;32m    279\u001b[0m \u001b[38;5;124;03msend message\u001b[39;00m\n\u001b[1;32m    280\u001b[0m \n\u001b[0;32m   (...)\u001b[0m\n\u001b[1;32m    287\u001b[0m \u001b[38;5;124;03m    Operation code of data. Default is OPCODE_TEXT.\u001b[39;00m\n\u001b[1;32m    288\u001b[0m \u001b[38;5;124;03m\"\"\"\u001b[39;00m\n\u001b[1;32m    290\u001b[0m \u001b[38;5;28;01mif\u001b[39;00m \u001b[38;5;129;01mnot\u001b[39;00m \u001b[38;5;28mself\u001b[39m\u001b[38;5;241m.\u001b[39msock \u001b[38;5;129;01mor\u001b[39;00m \u001b[38;5;28mself\u001b[39m\u001b[38;5;241m.\u001b[39msock\u001b[38;5;241m.\u001b[39msend(data, opcode) \u001b[38;5;241m==\u001b[39m \u001b[38;5;241m0\u001b[39m:\n\u001b[0;32m--> 291\u001b[0m     \u001b[38;5;28;01mraise\u001b[39;00m WebSocketConnectionClosedException(\u001b[38;5;124m\"\u001b[39m\u001b[38;5;124mConnection is already closed.\u001b[39m\u001b[38;5;124m\"\u001b[39m)\n",
      "\u001b[0;31mWebSocketConnectionClosedException\u001b[0m: Connection is already closed."
     ]
    }
   ],
   "source": [
    "import websocket\n",
    "import json\n",
    "import threading\n",
    "\n",
    "def on_message(ws, message):\n",
    "    print(f\"Received message from server: {message}\")\n",
    "\n",
    "def on_error(ws, error):\n",
    "    print(f\"Encountered error: {error}\")\n",
    "\n",
    "def on_close(ws, close_status_code, close_msg):\n",
    "    print(\"WebSocket connection closed\")\n",
    "\n",
    "def on_open(ws):\n",
    "    print(\"WebSocket connection opened\")\n",
    "\n",
    "# Create the WebSocket app\n",
    "ws_url = \"ws://localhost:8765\"\n",
    "ws_app = websocket.WebSocketApp(\n",
    "    ws_url,\n",
    "    on_open=on_open,\n",
    "    on_message=on_message,\n",
    "    on_error=on_error,\n",
    "    on_close=on_close\n",
    ")\n",
    "\n",
    "# Run the WebSocket app in a separate thread\n",
    "def run_ws():\n",
    "    ws_app.run_forever()\n",
    "\n",
    "ws_thread = threading.Thread(target=run_ws)\n",
    "ws_thread.daemon = True\n",
    "ws_thread.start()\n",
    "\n",
    "# Wait briefly to ensure the connection is open\n",
    "import time\n",
    "time.sleep(1)\n",
    "\n",
    "# Define and send the tool_calls message\n",
    "tool_calls = [\n",
    "    {\n",
    "        \"function_name\": \"load_molecule\",\n",
    "        \"arguments\": {\n",
    "            \"molecule\": \"H2O\"\n",
    "        }\n",
    "    },\n",
    "    {\n",
    "        \"function_name\": \"mix_solutions\",\n",
    "        \"arguments\": {\n",
    "            \"solution1\": \"beaker_Kmno4\",\n",
    "            \"solution2\": \"beaker_Fecl2\"\n",
    "        }\n",
    "    }\n",
    "]\n",
    "\n",
    "tool_calls_json = json.dumps(tool_calls)\n",
    "ws_app.send(tool_calls_json)\n",
    "\n",
    "# Optional: Keep the notebook cell running to receive messages\n",
    "# time.sleep(10)  # Adjust the sleep time as needed\n",
    "\n",
    "# Close the WebSocket connection when done\n",
    "# ws_app.close()\n"
   ]
  },
  {
   "cell_type": "code",
   "execution_count": 5,
   "id": "8576b20d-fbcb-4442-a29d-9a690f8ea029",
   "metadata": {},
   "outputs": [
    {
     "ename": "ConnectionRefusedError",
     "evalue": "[Errno 111] Connect call failed ('127.0.0.1', 8765)",
     "output_type": "error",
     "traceback": [
      "\u001b[0;31m---------------------------------------------------------------------------\u001b[0m",
      "\u001b[0;31mConnectionRefusedError\u001b[0m                    Traceback (most recent call last)",
      "Cell \u001b[0;32mIn[5], line 11\u001b[0m\n\u001b[1;32m      8\u001b[0m         response \u001b[38;5;241m=\u001b[39m \u001b[38;5;28;01mawait\u001b[39;00m websocket\u001b[38;5;241m.\u001b[39mrecv()\n\u001b[1;32m      9\u001b[0m         \u001b[38;5;28mprint\u001b[39m(\u001b[38;5;124mf\u001b[39m\u001b[38;5;124m\"\u001b[39m\u001b[38;5;124mReceived from server: \u001b[39m\u001b[38;5;132;01m{\u001b[39;00mresponse\u001b[38;5;132;01m}\u001b[39;00m\u001b[38;5;124m\"\u001b[39m)\n\u001b[0;32m---> 11\u001b[0m \u001b[38;5;28;01mawait\u001b[39;00m test_websocket()\n",
      "Cell \u001b[0;32mIn[5], line 6\u001b[0m, in \u001b[0;36mtest_websocket\u001b[0;34m()\u001b[0m\n\u001b[1;32m      4\u001b[0m \u001b[38;5;28;01masync\u001b[39;00m \u001b[38;5;28;01mdef\u001b[39;00m \u001b[38;5;21mtest_websocket\u001b[39m():\n\u001b[1;32m      5\u001b[0m     uri \u001b[38;5;241m=\u001b[39m \u001b[38;5;124m\"\u001b[39m\u001b[38;5;124mws://localhost:8765\u001b[39m\u001b[38;5;124m\"\u001b[39m\n\u001b[0;32m----> 6\u001b[0m     \u001b[38;5;28;01masync\u001b[39;00m \u001b[38;5;28;01mwith\u001b[39;00m websockets\u001b[38;5;241m.\u001b[39mconnect(uri) \u001b[38;5;28;01mas\u001b[39;00m websocket:\n\u001b[1;32m      7\u001b[0m         \u001b[38;5;28;01mawait\u001b[39;00m websocket\u001b[38;5;241m.\u001b[39msend(\u001b[38;5;124m\"\u001b[39m\u001b[38;5;124mHello, server\u001b[39m\u001b[38;5;124m\"\u001b[39m)\n\u001b[1;32m      8\u001b[0m         response \u001b[38;5;241m=\u001b[39m \u001b[38;5;28;01mawait\u001b[39;00m websocket\u001b[38;5;241m.\u001b[39mrecv()\n",
      "File \u001b[0;32m~/miniconda3/envs/jupyter/lib/python3.11/site-packages/websockets/legacy/client.py:635\u001b[0m, in \u001b[0;36mConnect.__aenter__\u001b[0;34m(self)\u001b[0m\n\u001b[1;32m    634\u001b[0m \u001b[38;5;28;01masync\u001b[39;00m \u001b[38;5;28;01mdef\u001b[39;00m \u001b[38;5;21m__aenter__\u001b[39m(\u001b[38;5;28mself\u001b[39m) \u001b[38;5;241m-\u001b[39m\u001b[38;5;241m>\u001b[39m WebSocketClientProtocol:\n\u001b[0;32m--> 635\u001b[0m     \u001b[38;5;28;01mreturn\u001b[39;00m \u001b[38;5;28;01mawait\u001b[39;00m \u001b[38;5;28mself\u001b[39m\n",
      "File \u001b[0;32m~/miniconda3/envs/jupyter/lib/python3.11/site-packages/websockets/legacy/client.py:654\u001b[0m, in \u001b[0;36mConnect.__await_impl__\u001b[0;34m(self)\u001b[0m\n\u001b[1;32m    652\u001b[0m \u001b[38;5;28;01masync\u001b[39;00m \u001b[38;5;28;01mwith\u001b[39;00m asyncio_timeout(\u001b[38;5;28mself\u001b[39m\u001b[38;5;241m.\u001b[39mopen_timeout):\n\u001b[1;32m    653\u001b[0m     \u001b[38;5;28;01mfor\u001b[39;00m _redirects \u001b[38;5;129;01min\u001b[39;00m \u001b[38;5;28mrange\u001b[39m(\u001b[38;5;28mself\u001b[39m\u001b[38;5;241m.\u001b[39mMAX_REDIRECTS_ALLOWED):\n\u001b[0;32m--> 654\u001b[0m         _transport, protocol \u001b[38;5;241m=\u001b[39m \u001b[38;5;28;01mawait\u001b[39;00m \u001b[38;5;28mself\u001b[39m\u001b[38;5;241m.\u001b[39m_create_connection()\n\u001b[1;32m    655\u001b[0m         \u001b[38;5;28;01mtry\u001b[39;00m:\n\u001b[1;32m    656\u001b[0m             \u001b[38;5;28;01mawait\u001b[39;00m protocol\u001b[38;5;241m.\u001b[39mhandshake(\n\u001b[1;32m    657\u001b[0m                 \u001b[38;5;28mself\u001b[39m\u001b[38;5;241m.\u001b[39m_wsuri,\n\u001b[1;32m    658\u001b[0m                 origin\u001b[38;5;241m=\u001b[39mprotocol\u001b[38;5;241m.\u001b[39morigin,\n\u001b[0;32m   (...)\u001b[0m\n\u001b[1;32m    661\u001b[0m                 extra_headers\u001b[38;5;241m=\u001b[39mprotocol\u001b[38;5;241m.\u001b[39mextra_headers,\n\u001b[1;32m    662\u001b[0m             )\n",
      "File \u001b[0;32m~/miniconda3/envs/jupyter/lib/python3.11/asyncio/base_events.py:1086\u001b[0m, in \u001b[0;36mBaseEventLoop.create_connection\u001b[0;34m(self, protocol_factory, host, port, ssl, family, proto, flags, sock, local_addr, server_hostname, ssl_handshake_timeout, ssl_shutdown_timeout, happy_eyeballs_delay, interleave)\u001b[0m\n\u001b[1;32m   1084\u001b[0m \u001b[38;5;28;01mtry\u001b[39;00m:\n\u001b[1;32m   1085\u001b[0m     \u001b[38;5;28;01mif\u001b[39;00m \u001b[38;5;28mlen\u001b[39m(exceptions) \u001b[38;5;241m==\u001b[39m \u001b[38;5;241m1\u001b[39m:\n\u001b[0;32m-> 1086\u001b[0m         \u001b[38;5;28;01mraise\u001b[39;00m exceptions[\u001b[38;5;241m0\u001b[39m]\n\u001b[1;32m   1087\u001b[0m     \u001b[38;5;28;01melse\u001b[39;00m:\n\u001b[1;32m   1088\u001b[0m         \u001b[38;5;66;03m# If they all have the same str(), raise one.\u001b[39;00m\n\u001b[1;32m   1089\u001b[0m         model \u001b[38;5;241m=\u001b[39m \u001b[38;5;28mstr\u001b[39m(exceptions[\u001b[38;5;241m0\u001b[39m])\n",
      "File \u001b[0;32m~/miniconda3/envs/jupyter/lib/python3.11/asyncio/base_events.py:1070\u001b[0m, in \u001b[0;36mBaseEventLoop.create_connection\u001b[0;34m(self, protocol_factory, host, port, ssl, family, proto, flags, sock, local_addr, server_hostname, ssl_handshake_timeout, ssl_shutdown_timeout, happy_eyeballs_delay, interleave)\u001b[0m\n\u001b[1;32m   1068\u001b[0m \u001b[38;5;28;01mfor\u001b[39;00m addrinfo \u001b[38;5;129;01min\u001b[39;00m infos:\n\u001b[1;32m   1069\u001b[0m     \u001b[38;5;28;01mtry\u001b[39;00m:\n\u001b[0;32m-> 1070\u001b[0m         sock \u001b[38;5;241m=\u001b[39m \u001b[38;5;28;01mawait\u001b[39;00m \u001b[38;5;28mself\u001b[39m\u001b[38;5;241m.\u001b[39m_connect_sock(\n\u001b[1;32m   1071\u001b[0m             exceptions, addrinfo, laddr_infos)\n\u001b[1;32m   1072\u001b[0m         \u001b[38;5;28;01mbreak\u001b[39;00m\n\u001b[1;32m   1073\u001b[0m     \u001b[38;5;28;01mexcept\u001b[39;00m \u001b[38;5;167;01mOSError\u001b[39;00m:\n",
      "File \u001b[0;32m~/miniconda3/envs/jupyter/lib/python3.11/asyncio/base_events.py:974\u001b[0m, in \u001b[0;36mBaseEventLoop._connect_sock\u001b[0;34m(self, exceptions, addr_info, local_addr_infos)\u001b[0m\n\u001b[1;32m    972\u001b[0m             \u001b[38;5;28;01melse\u001b[39;00m:\n\u001b[1;32m    973\u001b[0m                 \u001b[38;5;28;01mraise\u001b[39;00m \u001b[38;5;167;01mOSError\u001b[39;00m(\u001b[38;5;124mf\u001b[39m\u001b[38;5;124m\"\u001b[39m\u001b[38;5;124mno matching local address with \u001b[39m\u001b[38;5;132;01m{\u001b[39;00mfamily\u001b[38;5;132;01m=}\u001b[39;00m\u001b[38;5;124m found\u001b[39m\u001b[38;5;124m\"\u001b[39m)\n\u001b[0;32m--> 974\u001b[0m     \u001b[38;5;28;01mawait\u001b[39;00m \u001b[38;5;28mself\u001b[39m\u001b[38;5;241m.\u001b[39msock_connect(sock, address)\n\u001b[1;32m    975\u001b[0m     \u001b[38;5;28;01mreturn\u001b[39;00m sock\n\u001b[1;32m    976\u001b[0m \u001b[38;5;28;01mexcept\u001b[39;00m \u001b[38;5;167;01mOSError\u001b[39;00m \u001b[38;5;28;01mas\u001b[39;00m exc:\n",
      "File \u001b[0;32m~/miniconda3/envs/jupyter/lib/python3.11/asyncio/selector_events.py:638\u001b[0m, in \u001b[0;36mBaseSelectorEventLoop.sock_connect\u001b[0;34m(self, sock, address)\u001b[0m\n\u001b[1;32m    636\u001b[0m \u001b[38;5;28mself\u001b[39m\u001b[38;5;241m.\u001b[39m_sock_connect(fut, sock, address)\n\u001b[1;32m    637\u001b[0m \u001b[38;5;28;01mtry\u001b[39;00m:\n\u001b[0;32m--> 638\u001b[0m     \u001b[38;5;28;01mreturn\u001b[39;00m \u001b[38;5;28;01mawait\u001b[39;00m fut\n\u001b[1;32m    639\u001b[0m \u001b[38;5;28;01mfinally\u001b[39;00m:\n\u001b[1;32m    640\u001b[0m     \u001b[38;5;66;03m# Needed to break cycles when an exception occurs.\u001b[39;00m\n\u001b[1;32m    641\u001b[0m     fut \u001b[38;5;241m=\u001b[39m \u001b[38;5;28;01mNone\u001b[39;00m\n",
      "File \u001b[0;32m~/miniconda3/envs/jupyter/lib/python3.11/asyncio/selector_events.py:678\u001b[0m, in \u001b[0;36mBaseSelectorEventLoop._sock_connect_cb\u001b[0;34m(self, fut, sock, address)\u001b[0m\n\u001b[1;32m    675\u001b[0m     err \u001b[38;5;241m=\u001b[39m sock\u001b[38;5;241m.\u001b[39mgetsockopt(socket\u001b[38;5;241m.\u001b[39mSOL_SOCKET, socket\u001b[38;5;241m.\u001b[39mSO_ERROR)\n\u001b[1;32m    676\u001b[0m     \u001b[38;5;28;01mif\u001b[39;00m err \u001b[38;5;241m!=\u001b[39m \u001b[38;5;241m0\u001b[39m:\n\u001b[1;32m    677\u001b[0m         \u001b[38;5;66;03m# Jump to any except clause below.\u001b[39;00m\n\u001b[0;32m--> 678\u001b[0m         \u001b[38;5;28;01mraise\u001b[39;00m \u001b[38;5;167;01mOSError\u001b[39;00m(err, \u001b[38;5;124mf\u001b[39m\u001b[38;5;124m'\u001b[39m\u001b[38;5;124mConnect call failed \u001b[39m\u001b[38;5;132;01m{\u001b[39;00maddress\u001b[38;5;132;01m}\u001b[39;00m\u001b[38;5;124m'\u001b[39m)\n\u001b[1;32m    679\u001b[0m \u001b[38;5;28;01mexcept\u001b[39;00m (\u001b[38;5;167;01mBlockingIOError\u001b[39;00m, \u001b[38;5;167;01mInterruptedError\u001b[39;00m):\n\u001b[1;32m    680\u001b[0m     \u001b[38;5;66;03m# socket is still registered, the callback will be retried later\u001b[39;00m\n\u001b[1;32m    681\u001b[0m     \u001b[38;5;28;01mpass\u001b[39;00m\n",
      "\u001b[0;31mConnectionRefusedError\u001b[0m: [Errno 111] Connect call failed ('127.0.0.1', 8765)"
     ]
    }
   ],
   "source": [
    "import asyncio\n",
    "import websockets\n",
    "\n",
    "async def test_websocket():\n",
    "    uri = \"ws://localhost:8765\"\n",
    "    async with websockets.connect(uri) as websocket:\n",
    "        await websocket.send(\"Hello, server\")\n",
    "        response = await websocket.recv()\n",
    "        print(f\"Received from server: {response}\")\n",
    "\n",
    "await test_websocket()"
   ]
  }
 ],
 "metadata": {
  "kernelspec": {
   "display_name": "Python 3 (ipykernel)",
   "language": "python",
   "name": "python3"
  },
  "language_info": {
   "codemirror_mode": {
    "name": "ipython",
    "version": 3
   },
   "file_extension": ".py",
   "mimetype": "text/x-python",
   "name": "python",
   "nbconvert_exporter": "python",
   "pygments_lexer": "ipython3",
   "version": "3.11.9"
  }
 },
 "nbformat": 4,
 "nbformat_minor": 5
}
