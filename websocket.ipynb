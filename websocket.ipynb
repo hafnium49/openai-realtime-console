{
 "cells": [
  {
   "cell_type": "code",
   "execution_count": 2,
   "id": "c8d95dc9-f64b-45a6-a349-1cb1512eea2b",
   "metadata": {},
   "outputs": [
    {
     "name": "stdout",
     "output_type": "stream",
     "text": [
      "Collecting python-socketio==5.8.0 (from python-socketio[client]==5.8.0)\n",
      "  Downloading python_socketio-5.8.0-py3-none-any.whl.metadata (3.2 kB)\n",
      "Requirement already satisfied: bidict>=0.21.0 in /home/hafnium/miniconda3/envs/jupyter/lib/python3.11/site-packages (from python-socketio==5.8.0->python-socketio[client]==5.8.0) (0.23.1)\n",
      "Requirement already satisfied: python-engineio>=4.3.0 in /home/hafnium/miniconda3/envs/jupyter/lib/python3.11/site-packages (from python-socketio==5.8.0->python-socketio[client]==5.8.0) (4.10.1)\n",
      "Requirement already satisfied: requests>=2.21.0 in /home/hafnium/miniconda3/envs/jupyter/lib/python3.11/site-packages (from python-socketio[client]==5.8.0) (2.32.3)\n",
      "Requirement already satisfied: websocket-client>=0.54.0 in /home/hafnium/miniconda3/envs/jupyter/lib/python3.11/site-packages (from python-socketio[client]==5.8.0) (1.8.0)\n",
      "Requirement already satisfied: simple-websocket>=0.10.0 in /home/hafnium/miniconda3/envs/jupyter/lib/python3.11/site-packages (from python-engineio>=4.3.0->python-socketio==5.8.0->python-socketio[client]==5.8.0) (1.1.0)\n",
      "Requirement already satisfied: charset-normalizer<4,>=2 in /home/hafnium/miniconda3/envs/jupyter/lib/python3.11/site-packages (from requests>=2.21.0->python-socketio[client]==5.8.0) (3.3.2)\n",
      "Requirement already satisfied: idna<4,>=2.5 in /home/hafnium/miniconda3/envs/jupyter/lib/python3.11/site-packages (from requests>=2.21.0->python-socketio[client]==5.8.0) (3.7)\n",
      "Requirement already satisfied: urllib3<3,>=1.21.1 in /home/hafnium/miniconda3/envs/jupyter/lib/python3.11/site-packages (from requests>=2.21.0->python-socketio[client]==5.8.0) (2.2.2)\n",
      "Requirement already satisfied: certifi>=2017.4.17 in /home/hafnium/miniconda3/envs/jupyter/lib/python3.11/site-packages (from requests>=2.21.0->python-socketio[client]==5.8.0) (2024.7.4)\n",
      "Requirement already satisfied: wsproto in /home/hafnium/miniconda3/envs/jupyter/lib/python3.11/site-packages (from simple-websocket>=0.10.0->python-engineio>=4.3.0->python-socketio==5.8.0->python-socketio[client]==5.8.0) (1.2.0)\n",
      "Requirement already satisfied: h11<1,>=0.9.0 in /home/hafnium/miniconda3/envs/jupyter/lib/python3.11/site-packages (from wsproto->simple-websocket>=0.10.0->python-engineio>=4.3.0->python-socketio==5.8.0->python-socketio[client]==5.8.0) (0.14.0)\n",
      "Downloading python_socketio-5.8.0-py3-none-any.whl (56 kB)\n",
      "Installing collected packages: python-socketio\n",
      "  Attempting uninstall: python-socketio\n",
      "    Found existing installation: python-socketio 5.11.4\n",
      "    Uninstalling python-socketio-5.11.4:\n",
      "      Successfully uninstalled python-socketio-5.11.4\n",
      "Successfully installed python-socketio-5.8.0\n"
     ]
    }
   ],
   "source": [
    "# !python -m pip install websockets\n",
    "# !python -m pip install websocket-client\n",
    "!python -m pip install \"python-socketio[client]==5.8.0\"\n",
    "\n"
   ]
  },
  {
   "cell_type": "code",
   "execution_count": 4,
   "id": "6973e991-87df-4a16-843f-1728db0f2862",
   "metadata": {},
   "outputs": [
    {
     "name": "stdout",
     "output_type": "stream",
     "text": [
      "Connected to the relay server at /chemistry3d.\n",
      "Sent test message: {'type': 'test_message', 'content': 'Hello, Chemistry3D Relay Server!'}\n",
      "Received response: {\"source\":\"chemistry3d\",\"type\":\"received\",\"data\":{\"event\":{\"type\":\"test_message\",\"content\":\"Hello, Chemistry3D Relay Server!\"}},\"timestamp\":\"2024-11-16T00:40:04.039Z\"}\n"
     ]
    }
   ],
   "source": [
    "import asyncio\n",
    "import websockets\n",
    "import json\n",
    "\n",
    "async def test_chemistry3d_connection():\n",
    "    # Define the WebSocket URI for the Chemistry3D client (\"/chemistry3d\" path)\n",
    "    websocket_uri = \"ws://localhost:8081/chemistry3d\"  # Replace PORT with the actual port of the relay server\n",
    "\n",
    "    # Connect to the WebSocket server\n",
    "    async with websockets.connect(websocket_uri) as websocket:\n",
    "        print(\"Connected to the relay server at /chemistry3d.\")\n",
    "\n",
    "        # Send a test message to the server\n",
    "        test_message = {\n",
    "            \"type\": \"test_message\",\n",
    "            \"content\": \"Hello, Chemistry3D Relay Server!\"\n",
    "        }\n",
    "        await websocket.send(json.dumps(test_message))\n",
    "        print(\"Sent test message:\", test_message)\n",
    "\n",
    "        # Listen for a response from the server\n",
    "        response = await websocket.recv()\n",
    "        print(\"Received response:\", response)\n",
    "\n",
    "# Run the test in the Jupyter Notebook\n",
    "await test_chemistry3d_connection()\n"
   ]
  },
  {
   "cell_type": "code",
   "execution_count": 3,
   "id": "cd184e70-f52a-4d9d-9f64-9233c51ff6a3",
   "metadata": {},
   "outputs": [
    {
     "name": "stdout",
     "output_type": "stream",
     "text": [
      "Connected to the relay server.\n",
      "Sent test message: {'type': 'test_message', 'content': 'Hello, Relay Server!'}\n",
      "Received response: {\"type\":\"status\",\"isConnected\":true,\"connectedClients\":1,\"chemistry3dConnected\":false,\"timestamp\":\"2024-11-16T00:38:02.573Z\"}\n"
     ]
    }
   ],
   "source": [
    "import asyncio\n",
    "import websockets\n",
    "import json\n",
    "\n",
    "async def test_relay_connection():\n",
    "    # Define the WebSocket URI for the React client (\"/ws\" path)\n",
    "    websocket_uri = \"ws://localhost:8081/ws\"  # Replace PORT with the actual port of the relay server\n",
    "\n",
    "    # Connect to the WebSocket server\n",
    "    async with websockets.connect(websocket_uri) as websocket:\n",
    "        print(\"Connected to the relay server.\")\n",
    "\n",
    "        # Send a test message to the server\n",
    "        test_message = {\n",
    "            \"type\": \"test_message\",\n",
    "            \"content\": \"Hello, Relay Server!\"\n",
    "        }\n",
    "        await websocket.send(json.dumps(test_message))\n",
    "        print(\"Sent test message:\", test_message)\n",
    "\n",
    "        # Listen for a response from the server\n",
    "        response = await websocket.recv()\n",
    "        print(\"Received response:\", response)\n",
    "\n",
    "# Run the test in the Jupyter Notebook\n",
    "await test_relay_connection()\n"
   ]
  },
  {
   "cell_type": "code",
   "execution_count": 26,
   "id": "44eee4d2-d40c-49b5-a06a-46a6d823df64",
   "metadata": {},
   "outputs": [
    {
     "name": "stderr",
     "output_type": "stream",
     "text": [
      "Attempting WebSocket connection to ws://localhost:8081/socket.io/?transport=websocket&EIO=4\n"
     ]
    },
    {
     "name": "stdout",
     "output_type": "stream",
     "text": [
      "Failed to connect to relay server: Connection error\n"
     ]
    },
    {
     "data": {
      "application/javascript": [
       "Jupyter.notebook.kernel.restart()"
      ],
      "text/plain": [
       "<IPython.core.display.Javascript object>"
      ]
     },
     "metadata": {},
     "output_type": "display_data"
    },
    {
     "name": "stdout",
     "output_type": "stream",
     "text": [
      "WebSocket is not connected. Cannot send user input.\n"
     ]
    }
   ],
   "source": [
    "import socketio\n",
    "import threading\n",
    "import asyncio\n",
    "import json\n",
    "from IPython.display import display, Javascript\n",
    "\n",
    "# Initialize Socket.IO client\n",
    "sio = socketio.Client(logger=True, engineio_logger=True)\n",
    "websocket_connected = False\n",
    "\n",
    "# Message queue for incoming function calls\n",
    "tool_calls_queue = []\n",
    "\n",
    "def print_and_send(message):\n",
    "    \"\"\"Helper function to print and send messages to the WebSocket server.\"\"\"\n",
    "    print(message)\n",
    "    if websocket_connected:\n",
    "        try:\n",
    "            sio.emit('message', json.dumps({'text': message}))\n",
    "        except Exception as e:\n",
    "            print(f'Error sending message to WebSocket server: {e}')\n",
    "\n",
    "# Define event handlers\n",
    "@sio.event\n",
    "def connect():\n",
    "    global websocket_connected\n",
    "    print('WebSocket client connected to the relay server')\n",
    "    websocket_connected = True\n",
    "\n",
    "@sio.event\n",
    "def disconnect():\n",
    "    global websocket_connected\n",
    "    print('WebSocket client disconnected from the relay server')\n",
    "    websocket_connected = False\n",
    "\n",
    "@sio.on('function_call')\n",
    "def on_function_call(data):\n",
    "    \"\"\"Handle incoming function calls.\"\"\"\n",
    "    print(f'Received function_call from relay server: {data}')\n",
    "    tool_calls_queue.append(data)\n",
    "\n",
    "@sio.on('log')\n",
    "def on_log(data):\n",
    "    \"\"\"Handle logs from the relay server.\"\"\"\n",
    "    print(f\"Relay server log: {data}\")\n",
    "\n",
    "# Connect to the WebSocket server\n",
    "try:\n",
    "    # Change the port if the server is running on a different port\n",
    "    sio.connect('http://localhost:8081', transports=['websocket'], wait=True)\n",
    "except Exception as e:\n",
    "    print(f'Failed to connect to relay server: {e}')\n",
    "\n",
    "# Function to send a user prompt from the Jupyter Notebook input\n",
    "def send_user_prompt(prompt):\n",
    "    if websocket_connected:\n",
    "        print_and_send(f'Sending user prompt to relay server: {prompt}')\n",
    "    else:\n",
    "        print('WebSocket is not connected. Cannot send user input.')\n",
    "\n",
    "# Emulate user input and function call processing in a Jupyter Notebook\n",
    "async def emulate_client_behavior():\n",
    "    while True:\n",
    "        # Emulate checking for function calls in the queue\n",
    "        if tool_calls_queue:\n",
    "            function_call = tool_calls_queue.pop(0)\n",
    "            try:\n",
    "                print(f\"Processing function call: {function_call}\")\n",
    "                # Simulate processing the function call and prepare a response\n",
    "                result = {\"status\": \"success\", \"message\": \"Function executed successfully\"}\n",
    "                # Send the result back to the relay server\n",
    "                sio.emit('function_call_output', {\n",
    "                    'call_id': function_call.get('id', ''),\n",
    "                    'output': result\n",
    "                })\n",
    "                print(f\"Function call result sent: {result}\")\n",
    "            except Exception as e:\n",
    "                print(f\"Error processing function_call: {e}\")\n",
    "\n",
    "        await asyncio.sleep(1)  # Simulate a wait time for event handling\n",
    "\n",
    "# Start the event loop in a Jupyter Notebook\n",
    "loop = asyncio.get_event_loop()\n",
    "if loop.is_running():\n",
    "    display(Javascript('Jupyter.notebook.kernel.restart()'))\n",
    "else:\n",
    "    threading.Thread(target=lambda: asyncio.run(emulate_client_behavior()), daemon=True).start()\n",
    "\n",
    "# Send a test prompt from the Notebook\n",
    "send_user_prompt(\"Start a chemical mixing task\")\n"
   ]
  },
  {
   "cell_type": "code",
   "execution_count": 18,
   "id": "680f5a46-c379-47fa-8c01-21ccc18ef261",
   "metadata": {},
   "outputs": [
    {
     "name": "stderr",
     "output_type": "stream",
     "text": [
      "Attempting WebSocket connection to ws://localhost:8081/chemistry3d/socket.io/?transport=websocket&EIO=4\n"
     ]
    },
    {
     "name": "stdout",
     "output_type": "stream",
     "text": [
      "Failed to connect: Connection error\n",
      "Sending message: Hello from the Chemistry3D client emulation!\n"
     ]
    },
    {
     "ename": "BadNamespaceError",
     "evalue": "/chemistry3d is not a connected namespace.",
     "output_type": "error",
     "traceback": [
      "\u001b[0;31m---------------------------------------------------------------------------\u001b[0m",
      "\u001b[0;31mBadNamespaceError\u001b[0m                         Traceback (most recent call last)",
      "Cell \u001b[0;32mIn[18], line 54\u001b[0m\n\u001b[1;32m     51\u001b[0m     sio\u001b[38;5;241m.\u001b[39memit(\u001b[38;5;124m'\u001b[39m\u001b[38;5;124mmessage\u001b[39m\u001b[38;5;124m'\u001b[39m, message, namespace\u001b[38;5;241m=\u001b[39m\u001b[38;5;124m'\u001b[39m\u001b[38;5;124m/chemistry3d\u001b[39m\u001b[38;5;124m'\u001b[39m)\n\u001b[1;32m     53\u001b[0m \u001b[38;5;66;03m# Send a test message to the server\u001b[39;00m\n\u001b[0;32m---> 54\u001b[0m send_message_to_server(\u001b[38;5;124m\"\u001b[39m\u001b[38;5;124mHello from the Chemistry3D client emulation!\u001b[39m\u001b[38;5;124m\"\u001b[39m)\n\u001b[1;32m     56\u001b[0m \u001b[38;5;66;03m# Keep the connection open for testing\u001b[39;00m\n\u001b[1;32m     57\u001b[0m \u001b[38;5;28;01mtry\u001b[39;00m:\n",
      "Cell \u001b[0;32mIn[18], line 51\u001b[0m, in \u001b[0;36msend_message_to_server\u001b[0;34m(message)\u001b[0m\n\u001b[1;32m     49\u001b[0m \u001b[38;5;28;01mdef\u001b[39;00m \u001b[38;5;21msend_message_to_server\u001b[39m(message):\n\u001b[1;32m     50\u001b[0m     \u001b[38;5;28mprint\u001b[39m(\u001b[38;5;124mf\u001b[39m\u001b[38;5;124m\"\u001b[39m\u001b[38;5;124mSending message: \u001b[39m\u001b[38;5;132;01m{\u001b[39;00mmessage\u001b[38;5;132;01m}\u001b[39;00m\u001b[38;5;124m\"\u001b[39m)\n\u001b[0;32m---> 51\u001b[0m     sio\u001b[38;5;241m.\u001b[39memit(\u001b[38;5;124m'\u001b[39m\u001b[38;5;124mmessage\u001b[39m\u001b[38;5;124m'\u001b[39m, message, namespace\u001b[38;5;241m=\u001b[39m\u001b[38;5;124m'\u001b[39m\u001b[38;5;124m/chemistry3d\u001b[39m\u001b[38;5;124m'\u001b[39m)\n",
      "File \u001b[0;32m~/miniconda3/envs/jupyter/lib/python3.11/site-packages/socketio/client.py:214\u001b[0m, in \u001b[0;36memit\u001b[0;34m(self, event, data, namespace, callback)\u001b[0m\n\u001b[1;32m    211\u001b[0m \u001b[38;5;28;01mdef\u001b[39;00m \u001b[38;5;21mevent\u001b[39m(\u001b[38;5;28mself\u001b[39m, \u001b[38;5;241m*\u001b[39margs, \u001b[38;5;241m*\u001b[39m\u001b[38;5;241m*\u001b[39mkwargs):\n\u001b[1;32m    212\u001b[0m \u001b[38;5;250m    \u001b[39m\u001b[38;5;124;03m\"\"\"Decorator to register an event handler.\u001b[39;00m\n\u001b[1;32m    213\u001b[0m \n\u001b[0;32m--> 214\u001b[0m \u001b[38;5;124;03m    This is a simplified version of the ``on()`` method that takes the\u001b[39;00m\n\u001b[1;32m    215\u001b[0m \u001b[38;5;124;03m    event name from the decorated function.\u001b[39;00m\n\u001b[1;32m    216\u001b[0m \n\u001b[1;32m    217\u001b[0m \u001b[38;5;124;03m    Example usage::\u001b[39;00m\n\u001b[1;32m    218\u001b[0m \n\u001b[1;32m    219\u001b[0m \u001b[38;5;124;03m        @sio.event\u001b[39;00m\n\u001b[1;32m    220\u001b[0m \u001b[38;5;124;03m        def my_event(data):\u001b[39;00m\n\u001b[1;32m    221\u001b[0m \u001b[38;5;124;03m            print('Received data: ', data)\u001b[39;00m\n\u001b[1;32m    222\u001b[0m \n\u001b[1;32m    223\u001b[0m \u001b[38;5;124;03m    The above example is equivalent to::\u001b[39;00m\n\u001b[1;32m    224\u001b[0m \n\u001b[1;32m    225\u001b[0m \u001b[38;5;124;03m        @sio.on('my_event')\u001b[39;00m\n\u001b[1;32m    226\u001b[0m \u001b[38;5;124;03m        def my_event(data):\u001b[39;00m\n\u001b[1;32m    227\u001b[0m \u001b[38;5;124;03m            print('Received data: ', data)\u001b[39;00m\n\u001b[1;32m    228\u001b[0m \n\u001b[1;32m    229\u001b[0m \u001b[38;5;124;03m    A custom namespace can be given as an argument to the decorator::\u001b[39;00m\n\u001b[1;32m    230\u001b[0m \n\u001b[1;32m    231\u001b[0m \u001b[38;5;124;03m        @sio.event(namespace='/test')\u001b[39;00m\n\u001b[1;32m    232\u001b[0m \u001b[38;5;124;03m        def my_event(data):\u001b[39;00m\n\u001b[1;32m    233\u001b[0m \u001b[38;5;124;03m            print('Received data: ', data)\u001b[39;00m\n\u001b[1;32m    234\u001b[0m \u001b[38;5;124;03m    \"\"\"\u001b[39;00m\n\u001b[1;32m    235\u001b[0m     \u001b[38;5;28;01mif\u001b[39;00m \u001b[38;5;28mlen\u001b[39m(args) \u001b[38;5;241m==\u001b[39m \u001b[38;5;241m1\u001b[39m \u001b[38;5;129;01mand\u001b[39;00m \u001b[38;5;28mlen\u001b[39m(kwargs) \u001b[38;5;241m==\u001b[39m \u001b[38;5;241m0\u001b[39m \u001b[38;5;129;01mand\u001b[39;00m \u001b[38;5;28mcallable\u001b[39m(args[\u001b[38;5;241m0\u001b[39m]):\n\u001b[1;32m    236\u001b[0m         \u001b[38;5;66;03m# the decorator was invoked without arguments\u001b[39;00m\n\u001b[1;32m    237\u001b[0m         \u001b[38;5;66;03m# args[0] is the decorated function\u001b[39;00m\n\u001b[1;32m    238\u001b[0m         \u001b[38;5;28;01mreturn\u001b[39;00m \u001b[38;5;28mself\u001b[39m\u001b[38;5;241m.\u001b[39mon(args[\u001b[38;5;241m0\u001b[39m]\u001b[38;5;241m.\u001b[39m\u001b[38;5;18m__name__\u001b[39m)(args[\u001b[38;5;241m0\u001b[39m])\n",
      "\u001b[0;31mBadNamespaceError\u001b[0m: /chemistry3d is not a connected namespace."
     ]
    }
   ],
   "source": [
    "# Emulate Chemistry3D client in Jupyter Notebook using Socket.IO\n",
    "\n",
    "import socketio\n",
    "import time\n",
    "from IPython.display import display, Markdown\n",
    "\n",
    "# Create a Socket.IO client\n",
    "sio = socketio.Client(logger=True, engineio_logger=True)\n",
    "\n",
    "# Define event handlers\n",
    "@sio.event\n",
    "def connect():\n",
    "    print(\"Connected to the relay server\")\n",
    "    display(Markdown(\"**Connected to the relay server**\"))\n",
    "\n",
    "@sio.event\n",
    "def connect_error(data):\n",
    "    print(f\"Connection failed: {data}\")\n",
    "    display(Markdown(f\"**Connection failed: {data}**\"))\n",
    "\n",
    "@sio.event\n",
    "def disconnect():\n",
    "    print(\"Disconnected from the relay server\")\n",
    "    display(Markdown(\"**Disconnected from the relay server**\"))\n",
    "\n",
    "@sio.on('function_call')\n",
    "def on_function_call(data):\n",
    "    print(f\"Received function_call: {data}\")\n",
    "    display(Markdown(f\"**Received function_call:** {data}\"))\n",
    "\n",
    "@sio.on('log')\n",
    "def on_log(data):\n",
    "    print(f\"Log from server: {data}\")\n",
    "    display(Markdown(f\"**Log from server:** {data}\"))\n",
    "\n",
    "# Connect to the relay server\n",
    "try:\n",
    "    sio.connect(\n",
    "        'http://localhost:8081',  # Replace with the correct server address if different\n",
    "        namespaces=['/chemistry3d'],  # Connect to the specific namespace\n",
    "        transports=['websocket'],\n",
    "        socketio_path='/chemistry3d/socket.io'  # Custom path to match the server's path\n",
    "    )\n",
    "    print(\"Connection established\")\n",
    "except Exception as e:\n",
    "    print(f\"Failed to connect: {e}\")\n",
    "\n",
    "# Function to send a message to the relay server\n",
    "def send_message_to_server(message):\n",
    "    print(f\"Sending message: {message}\")\n",
    "    sio.emit('message', message, namespace='/chemistry3d')\n",
    "\n",
    "# Send a test message to the server\n",
    "send_message_to_server(\"Hello from the Chemistry3D client emulation!\")\n",
    "\n",
    "# Keep the connection open for testing\n",
    "try:\n",
    "    while True:\n",
    "        time.sleep(1)  # Keep the script running to listen for server responses\n",
    "except KeyboardInterrupt:\n",
    "    print(\"Stopping client...\")\n",
    "    sio.disconnect()\n"
   ]
  },
  {
   "cell_type": "code",
   "execution_count": 11,
   "id": "569da5d9-8f30-4720-8b82-82a32067c28e",
   "metadata": {},
   "outputs": [
    {
     "name": "stderr",
     "output_type": "stream",
     "text": [
      "Attempting WebSocket connection to ws://localhost:8081/socket.io/?transport=websocket&EIO=4\n"
     ]
    },
    {
     "name": "stdout",
     "output_type": "stream",
     "text": [
      "Connection failed\n",
      "Failed to connect: Connection error\n"
     ]
    }
   ],
   "source": [
    "# test_socketio_client.py\n",
    "\n",
    "import socketio\n",
    "\n",
    "sio = socketio.Client(logger=True, engineio_logger=True)\n",
    "\n",
    "@sio.event\n",
    "def connect():\n",
    "    print('Connection established')\n",
    "\n",
    "@sio.event\n",
    "def connect_error(data):\n",
    "    print('Connection failed')\n",
    "\n",
    "@sio.event\n",
    "def disconnect():\n",
    "    print('Disconnected from server')\n",
    "\n",
    "try:\n",
    "    sio.connect('http://localhost:8081/chemistry3d', transports=['websocket'])\n",
    "    sio.wait()\n",
    "except Exception as e:\n",
    "    print(f'Failed to connect: {e}')\n"
   ]
  },
  {
   "cell_type": "code",
   "execution_count": 19,
   "id": "18b92987-342d-43f5-b317-ad0809816e46",
   "metadata": {},
   "outputs": [
    {
     "name": "stderr",
     "output_type": "stream",
     "text": [
      "Attempting WebSocket connection to ws://localhost:8081/socket.io/?transport=websocket&EIO=4\n"
     ]
    },
    {
     "name": "stdout",
     "output_type": "stream",
     "text": [
      "Connection failed\n",
      "Failed to connect: Connection error\n"
     ]
    }
   ],
   "source": [
    "# test_socketio_client.py\n",
    "\n",
    "import socketio\n",
    "\n",
    "sio = socketio.Client(logger=True, engineio_logger=True)\n",
    "\n",
    "@sio.event\n",
    "def connect():\n",
    "    print('Connection established')\n",
    "\n",
    "@sio.event\n",
    "def connect_error(data):\n",
    "    print('Connection failed')\n",
    "\n",
    "@sio.event\n",
    "def disconnect():\n",
    "    print('Disconnected from server')\n",
    "\n",
    "try:\n",
    "    sio.connect('http://localhost:8081', transports=['websocket'])\n",
    "    sio.wait()\n",
    "except Exception as e:\n",
    "    print(f'Failed to connect: {e}')\n"
   ]
  },
  {
   "cell_type": "code",
   "execution_count": 15,
   "id": "58894a71-ee8f-4886-9230-40a2da622ff3",
   "metadata": {},
   "outputs": [
    {
     "name": "stdout",
     "output_type": "stream",
     "text": [
      "Encountered error: [Errno 111] Connection refused\n",
      "WebSocket connection closed\n"
     ]
    }
   ],
   "source": [
    "import websocket\n",
    "import json\n",
    "import threading\n",
    "import time\n",
    "\n",
    "def on_message(ws, message):\n",
    "    print(f\"Received message from server: {message}\")\n",
    "\n",
    "def on_error(ws, error):\n",
    "    print(f\"Encountered error: {error}\")\n",
    "\n",
    "def on_close(ws, close_status_code, close_msg):\n",
    "    print(\"WebSocket connection closed\")\n",
    "\n",
    "def on_open(ws):\n",
    "    print(\"WebSocket connection opened\")\n",
    "    # Send message after connection is established\n",
    "    tool_calls = [\n",
    "        {\n",
    "            \"function_name\": \"load_molecule\",\n",
    "            \"arguments\": {\n",
    "                \"molecule\": \"H2O\"\n",
    "            }\n",
    "        }\n",
    "    ]\n",
    "    tool_calls_json = json.dumps(tool_calls)\n",
    "    ws.send(tool_calls_json)\n",
    "\n",
    "# Create the WebSocket app\n",
    "ws_url = \"ws://localhost:8765\"\n",
    "ws_app = websocket.WebSocketApp(\n",
    "    ws_url,\n",
    "    on_open=on_open,\n",
    "    on_message=on_message,\n",
    "    on_error=on_error,\n",
    "    on_close=on_close\n",
    ")\n",
    "\n",
    "# Run the WebSocket app in a separate thread\n",
    "def run_ws():\n",
    "    ws_app.run_forever()\n",
    "\n",
    "ws_thread = threading.Thread(target=run_ws)\n",
    "ws_thread.daemon = True\n",
    "ws_thread.start()\n",
    "\n",
    "# Wait for the connection to establish\n",
    "time.sleep(2)  # Adjust if necessary\n",
    "\n",
    "# Optionally, send messages here if not sent in on_open\n"
   ]
  },
  {
   "cell_type": "code",
   "execution_count": 10,
   "id": "dfb34829-944e-4750-972a-9f563c93093d",
   "metadata": {},
   "outputs": [
    {
     "name": "stdout",
     "output_type": "stream",
     "text": [
      "Encountered error: [Errno 111] Connection refused\n",
      "WebSocket connection closed\n"
     ]
    },
    {
     "name": "stderr",
     "output_type": "stream",
     "text": [
      "<frozen genericpath>:77: RuntimeWarning: coroutine 'test_websocket' was never awaited\n",
      "RuntimeWarning: Enable tracemalloc to get the object allocation traceback\n"
     ]
    },
    {
     "ename": "WebSocketConnectionClosedException",
     "evalue": "Connection is already closed.",
     "output_type": "error",
     "traceback": [
      "\u001b[0;31m---------------------------------------------------------------------------\u001b[0m",
      "\u001b[0;31mWebSocketConnectionClosedException\u001b[0m        Traceback (most recent call last)",
      "Cell \u001b[0;32mIn[10], line 57\u001b[0m\n\u001b[1;32m     40\u001b[0m tool_calls \u001b[38;5;241m=\u001b[39m [\n\u001b[1;32m     41\u001b[0m     {\n\u001b[1;32m     42\u001b[0m         \u001b[38;5;124m\"\u001b[39m\u001b[38;5;124mfunction_name\u001b[39m\u001b[38;5;124m\"\u001b[39m: \u001b[38;5;124m\"\u001b[39m\u001b[38;5;124mload_molecule\u001b[39m\u001b[38;5;124m\"\u001b[39m,\n\u001b[0;32m   (...)\u001b[0m\n\u001b[1;32m     53\u001b[0m     }\n\u001b[1;32m     54\u001b[0m ]\n\u001b[1;32m     56\u001b[0m tool_calls_json \u001b[38;5;241m=\u001b[39m json\u001b[38;5;241m.\u001b[39mdumps(tool_calls)\n\u001b[0;32m---> 57\u001b[0m ws_app\u001b[38;5;241m.\u001b[39msend(tool_calls_json)\n",
      "File \u001b[0;32m~/miniconda3/envs/jupyter/lib/python3.11/site-packages/websocket/_app.py:291\u001b[0m, in \u001b[0;36mWebSocketApp.send\u001b[0;34m(self, data, opcode)\u001b[0m\n\u001b[1;32m    278\u001b[0m \u001b[38;5;250m\u001b[39m\u001b[38;5;124;03m\"\"\"\u001b[39;00m\n\u001b[1;32m    279\u001b[0m \u001b[38;5;124;03msend message\u001b[39;00m\n\u001b[1;32m    280\u001b[0m \n\u001b[0;32m   (...)\u001b[0m\n\u001b[1;32m    287\u001b[0m \u001b[38;5;124;03m    Operation code of data. Default is OPCODE_TEXT.\u001b[39;00m\n\u001b[1;32m    288\u001b[0m \u001b[38;5;124;03m\"\"\"\u001b[39;00m\n\u001b[1;32m    290\u001b[0m \u001b[38;5;28;01mif\u001b[39;00m \u001b[38;5;129;01mnot\u001b[39;00m \u001b[38;5;28mself\u001b[39m\u001b[38;5;241m.\u001b[39msock \u001b[38;5;129;01mor\u001b[39;00m \u001b[38;5;28mself\u001b[39m\u001b[38;5;241m.\u001b[39msock\u001b[38;5;241m.\u001b[39msend(data, opcode) \u001b[38;5;241m==\u001b[39m \u001b[38;5;241m0\u001b[39m:\n\u001b[0;32m--> 291\u001b[0m     \u001b[38;5;28;01mraise\u001b[39;00m WebSocketConnectionClosedException(\u001b[38;5;124m\"\u001b[39m\u001b[38;5;124mConnection is already closed.\u001b[39m\u001b[38;5;124m\"\u001b[39m)\n",
      "\u001b[0;31mWebSocketConnectionClosedException\u001b[0m: Connection is already closed."
     ]
    }
   ],
   "source": [
    "import websocket\n",
    "import json\n",
    "import threading\n",
    "\n",
    "def on_message(ws, message):\n",
    "    print(f\"Received message from server: {message}\")\n",
    "\n",
    "def on_error(ws, error):\n",
    "    print(f\"Encountered error: {error}\")\n",
    "\n",
    "def on_close(ws, close_status_code, close_msg):\n",
    "    print(\"WebSocket connection closed\")\n",
    "\n",
    "def on_open(ws):\n",
    "    print(\"WebSocket connection opened\")\n",
    "\n",
    "# Create the WebSocket app\n",
    "ws_url = \"ws://localhost:8765\"\n",
    "ws_app = websocket.WebSocketApp(\n",
    "    ws_url,\n",
    "    on_open=on_open,\n",
    "    on_message=on_message,\n",
    "    on_error=on_error,\n",
    "    on_close=on_close\n",
    ")\n",
    "\n",
    "# Run the WebSocket app in a separate thread\n",
    "def run_ws():\n",
    "    ws_app.run_forever()\n",
    "\n",
    "ws_thread = threading.Thread(target=run_ws)\n",
    "ws_thread.daemon = True\n",
    "ws_thread.start()\n",
    "\n",
    "# Wait briefly to ensure the connection is open\n",
    "import time\n",
    "time.sleep(1)\n",
    "\n",
    "# Define and send the tool_calls message\n",
    "tool_calls = [\n",
    "    {\n",
    "        \"function_name\": \"load_molecule\",\n",
    "        \"arguments\": {\n",
    "            \"molecule\": \"H2O\"\n",
    "        }\n",
    "    },\n",
    "    {\n",
    "        \"function_name\": \"mix_solutions\",\n",
    "        \"arguments\": {\n",
    "            \"solution1\": \"beaker_Kmno4\",\n",
    "            \"solution2\": \"beaker_Fecl2\"\n",
    "        }\n",
    "    }\n",
    "]\n",
    "\n",
    "tool_calls_json = json.dumps(tool_calls)\n",
    "ws_app.send(tool_calls_json)\n",
    "\n",
    "# Optional: Keep the notebook cell running to receive messages\n",
    "# time.sleep(10)  # Adjust the sleep time as needed\n",
    "\n",
    "# Close the WebSocket connection when done\n",
    "# ws_app.close()\n"
   ]
  },
  {
   "cell_type": "code",
   "execution_count": 23,
   "id": "8576b20d-fbcb-4442-a29d-9a690f8ea029",
   "metadata": {},
   "outputs": [
    {
     "ename": "InvalidStatusCode",
     "evalue": "server rejected WebSocket connection: HTTP 400",
     "output_type": "error",
     "traceback": [
      "\u001b[0;31m---------------------------------------------------------------------------\u001b[0m",
      "\u001b[0;31mInvalidStatusCode\u001b[0m                         Traceback (most recent call last)",
      "Cell \u001b[0;32mIn[23], line 11\u001b[0m\n\u001b[1;32m      8\u001b[0m         response \u001b[38;5;241m=\u001b[39m \u001b[38;5;28;01mawait\u001b[39;00m websocket\u001b[38;5;241m.\u001b[39mrecv()\n\u001b[1;32m      9\u001b[0m         \u001b[38;5;28mprint\u001b[39m(\u001b[38;5;124mf\u001b[39m\u001b[38;5;124m\"\u001b[39m\u001b[38;5;124mReceived from server: \u001b[39m\u001b[38;5;132;01m{\u001b[39;00mresponse\u001b[38;5;132;01m}\u001b[39;00m\u001b[38;5;124m\"\u001b[39m)\n\u001b[0;32m---> 11\u001b[0m \u001b[38;5;28;01mawait\u001b[39;00m test_websocket()\n",
      "Cell \u001b[0;32mIn[23], line 6\u001b[0m, in \u001b[0;36mtest_websocket\u001b[0;34m()\u001b[0m\n\u001b[1;32m      4\u001b[0m \u001b[38;5;28;01masync\u001b[39;00m \u001b[38;5;28;01mdef\u001b[39;00m \u001b[38;5;21mtest_websocket\u001b[39m():\n\u001b[1;32m      5\u001b[0m     uri \u001b[38;5;241m=\u001b[39m \u001b[38;5;124m\"\u001b[39m\u001b[38;5;124mws://localhost:8081\u001b[39m\u001b[38;5;124m\"\u001b[39m\n\u001b[0;32m----> 6\u001b[0m     \u001b[38;5;28;01masync\u001b[39;00m \u001b[38;5;28;01mwith\u001b[39;00m websockets\u001b[38;5;241m.\u001b[39mconnect(uri) \u001b[38;5;28;01mas\u001b[39;00m websocket:\n\u001b[1;32m      7\u001b[0m         \u001b[38;5;28;01mawait\u001b[39;00m websocket\u001b[38;5;241m.\u001b[39msend(\u001b[38;5;124m\"\u001b[39m\u001b[38;5;124mHello, server\u001b[39m\u001b[38;5;124m\"\u001b[39m)\n\u001b[1;32m      8\u001b[0m         response \u001b[38;5;241m=\u001b[39m \u001b[38;5;28;01mawait\u001b[39;00m websocket\u001b[38;5;241m.\u001b[39mrecv()\n",
      "File \u001b[0;32m~/miniconda3/envs/jupyter/lib/python3.11/site-packages/websockets/legacy/client.py:635\u001b[0m, in \u001b[0;36mConnect.__aenter__\u001b[0;34m(self)\u001b[0m\n\u001b[1;32m    634\u001b[0m \u001b[38;5;28;01masync\u001b[39;00m \u001b[38;5;28;01mdef\u001b[39;00m \u001b[38;5;21m__aenter__\u001b[39m(\u001b[38;5;28mself\u001b[39m) \u001b[38;5;241m-\u001b[39m\u001b[38;5;241m>\u001b[39m WebSocketClientProtocol:\n\u001b[0;32m--> 635\u001b[0m     \u001b[38;5;28;01mreturn\u001b[39;00m \u001b[38;5;28;01mawait\u001b[39;00m \u001b[38;5;28mself\u001b[39m\n",
      "File \u001b[0;32m~/miniconda3/envs/jupyter/lib/python3.11/site-packages/websockets/legacy/client.py:656\u001b[0m, in \u001b[0;36mConnect.__await_impl__\u001b[0;34m(self)\u001b[0m\n\u001b[1;32m    654\u001b[0m _transport, protocol \u001b[38;5;241m=\u001b[39m \u001b[38;5;28;01mawait\u001b[39;00m \u001b[38;5;28mself\u001b[39m\u001b[38;5;241m.\u001b[39m_create_connection()\n\u001b[1;32m    655\u001b[0m \u001b[38;5;28;01mtry\u001b[39;00m:\n\u001b[0;32m--> 656\u001b[0m     \u001b[38;5;28;01mawait\u001b[39;00m protocol\u001b[38;5;241m.\u001b[39mhandshake(\n\u001b[1;32m    657\u001b[0m         \u001b[38;5;28mself\u001b[39m\u001b[38;5;241m.\u001b[39m_wsuri,\n\u001b[1;32m    658\u001b[0m         origin\u001b[38;5;241m=\u001b[39mprotocol\u001b[38;5;241m.\u001b[39morigin,\n\u001b[1;32m    659\u001b[0m         available_extensions\u001b[38;5;241m=\u001b[39mprotocol\u001b[38;5;241m.\u001b[39mavailable_extensions,\n\u001b[1;32m    660\u001b[0m         available_subprotocols\u001b[38;5;241m=\u001b[39mprotocol\u001b[38;5;241m.\u001b[39mavailable_subprotocols,\n\u001b[1;32m    661\u001b[0m         extra_headers\u001b[38;5;241m=\u001b[39mprotocol\u001b[38;5;241m.\u001b[39mextra_headers,\n\u001b[1;32m    662\u001b[0m     )\n\u001b[1;32m    663\u001b[0m \u001b[38;5;28;01mexcept\u001b[39;00m RedirectHandshake \u001b[38;5;28;01mas\u001b[39;00m exc:\n\u001b[1;32m    664\u001b[0m     protocol\u001b[38;5;241m.\u001b[39mfail_connection()\n",
      "File \u001b[0;32m~/miniconda3/envs/jupyter/lib/python3.11/site-packages/websockets/legacy/client.py:322\u001b[0m, in \u001b[0;36mWebSocketClientProtocol.handshake\u001b[0;34m(self, wsuri, origin, available_extensions, available_subprotocols, extra_headers)\u001b[0m\n\u001b[1;32m    320\u001b[0m     \u001b[38;5;28;01mraise\u001b[39;00m RedirectHandshake(response_headers[\u001b[38;5;124m\"\u001b[39m\u001b[38;5;124mLocation\u001b[39m\u001b[38;5;124m\"\u001b[39m])\n\u001b[1;32m    321\u001b[0m \u001b[38;5;28;01melif\u001b[39;00m status_code \u001b[38;5;241m!=\u001b[39m \u001b[38;5;241m101\u001b[39m:\n\u001b[0;32m--> 322\u001b[0m     \u001b[38;5;28;01mraise\u001b[39;00m InvalidStatusCode(status_code, response_headers)\n\u001b[1;32m    324\u001b[0m check_response(response_headers, key)\n\u001b[1;32m    326\u001b[0m \u001b[38;5;28mself\u001b[39m\u001b[38;5;241m.\u001b[39mextensions \u001b[38;5;241m=\u001b[39m \u001b[38;5;28mself\u001b[39m\u001b[38;5;241m.\u001b[39mprocess_extensions(\n\u001b[1;32m    327\u001b[0m     response_headers, available_extensions\n\u001b[1;32m    328\u001b[0m )\n",
      "\u001b[0;31mInvalidStatusCode\u001b[0m: server rejected WebSocket connection: HTTP 400"
     ]
    }
   ],
   "source": [
    "import asyncio\n",
    "import websockets\n",
    "\n",
    "async def test_websocket():\n",
    "    uri = \"ws://localhost:8081\"\n",
    "    async with websockets.connect(uri) as websocket:\n",
    "        await websocket.send(\"Hello, server\")\n",
    "        response = await websocket.recv()\n",
    "        print(f\"Received from server: {response}\")\n",
    "\n",
    "await test_websocket()"
   ]
  }
 ],
 "metadata": {
  "kernelspec": {
   "display_name": "Python 3 (ipykernel)",
   "language": "python",
   "name": "python3"
  },
  "language_info": {
   "codemirror_mode": {
    "name": "ipython",
    "version": 3
   },
   "file_extension": ".py",
   "mimetype": "text/x-python",
   "name": "python",
   "nbconvert_exporter": "python",
   "pygments_lexer": "ipython3",
   "version": "3.11.9"
  }
 },
 "nbformat": 4,
 "nbformat_minor": 5
}
